{
 "cells": [
  {
   "cell_type": "code",
   "execution_count": 2,
   "metadata": {},
   "outputs": [
    {
     "name": "stdout",
     "output_type": "stream",
     "text": [
      "19.708 uH\n"
     ]
    }
   ],
   "source": [
    "## INDUCTANCE\n",
    "\n",
    "N = 11 # user defined (# of turns)\n",
    "lg = 12 # user defined (mils)\n",
    "lg *= 2 # once for each half\n",
    "lg *= 0.0254 / 1000 # to m\n",
    "\n",
    "d = 8.8 / 1000 # m\n",
    "d += 2 * lg # air gap approximation\n",
    "Aeq = (d/2) ** 2 * 3.14 # area of a circle\n",
    "mu0 = 1.26 * 10 ** -6 # permeability of free space\n",
    "\n",
    "P = (mu0 * Aeq)/ lg\n",
    "L = N ** 2 * P\n",
    "print(f\"{round(L * 1000000, 3)} uH\")"
   ]
  },
  {
   "cell_type": "code",
   "execution_count": 87,
   "metadata": {},
   "outputs": [
    {
     "data": {
      "text/plain": [
       "3.4641016151377544"
      ]
     },
     "execution_count": 87,
     "metadata": {},
     "output_type": "execute_result"
    }
   ],
   "source": [
    "import math\n",
    "\n",
    "## PEAK CURRENT\n",
    "Ipk = 6 # amps\n",
    "Irms = Ipk * math.sqrt(1/3)\n",
    "Irms"
   ]
  },
  {
   "cell_type": "code",
   "execution_count": null,
   "metadata": {},
   "outputs": [],
   "source": []
  }
 ],
 "metadata": {
  "kernelspec": {
   "display_name": "powere",
   "language": "python",
   "name": "python3"
  },
  "language_info": {
   "codemirror_mode": {
    "name": "ipython",
    "version": 3
   },
   "file_extension": ".py",
   "mimetype": "text/x-python",
   "name": "python",
   "nbconvert_exporter": "python",
   "pygments_lexer": "ipython3",
   "version": "3.13.1"
  }
 },
 "nbformat": 4,
 "nbformat_minor": 2
}
